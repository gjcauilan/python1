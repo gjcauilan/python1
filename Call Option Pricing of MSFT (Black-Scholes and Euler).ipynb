{
 "cells": [
  {
   "cell_type": "markdown",
   "id": "316642b2",
   "metadata": {},
   "source": [
    "### Importing Necessary Libraries"
   ]
  },
  {
   "cell_type": "code",
   "execution_count": 1,
   "id": "4e607115",
   "metadata": {},
   "outputs": [],
   "source": [
    "import numpy as np\n",
    "import pandas as pd\n",
    "from pandas_datareader import data as pdr\n",
    "import yfinance as yf\n",
    "from scipy.stats import norm\n",
    "\n",
    "yf.pdr_override()"
   ]
  },
  {
   "cell_type": "markdown",
   "id": "8e2418bc",
   "metadata": {},
   "source": [
    "### Black-Scholes Model"
   ]
  },
  {
   "cell_type": "code",
   "execution_count": 2,
   "id": "514d72bd",
   "metadata": {},
   "outputs": [
    {
     "name": "stdout",
     "output_type": "stream",
     "text": [
      "[*********************100%***********************]  1 of 1 completed\n"
     ]
    },
    {
     "data": {
      "text/plain": [
       "MSFT    238.69902\n",
       "Name: 2022-12-30 00:00:00, dtype: float64"
      ]
     },
     "execution_count": 2,
     "metadata": {},
     "output_type": "execute_result"
    }
   ],
   "source": [
    "def d1 (stock_price, strike_price, riskfree_rate, stdev, time_horizon_years):\n",
    "    return (np.log(stock_price / strike_price) + (riskfree_rate + stdev ** 2 / 2) * time_horizon_years) / (stdev * np.sqrt(time_horizon_years))\n",
    "\n",
    "def d2 (stock_price1, strike_price, riskfree_rate, stdev, time_horizon_years):\n",
    "    return (np.log(stock_price / strike_price) + (riskfree_rate - stdev ** 2 / 2) * time_horizon_years) / (stdev * np.sqrt(time_horizon_years))\n",
    "\n",
    "def black_scholes (stock_price, strike_price, riskfree_rate, stdev, time_horizon_years):\n",
    "    return (stock_price * norm.cdf(d1(stock_price, strike_price, riskfree_rate, stdev, time_horizon_years))) - (strike_price * np.exp(-riskfree_rate * time_horizon_years) * norm.cdf(d2(stock_price, strike_price, riskfree_rate, stdev, time_horizon_years)))\n",
    "\n",
    "ticker = 'MSFT'\n",
    "data = pd.DataFrame()\n",
    "data[ticker] = pdr.get_data_yahoo(ticker, start='2017-1-1', end='2022-12-31')['Adj Close']\n",
    "\n",
    "stock_price = data.iloc[-1]\n",
    "stock_price"
   ]
  },
  {
   "cell_type": "code",
   "execution_count": 3,
   "id": "25b56d60",
   "metadata": {},
   "outputs": [
    {
     "data": {
      "text/plain": [
       "'Black-Scholes Price: 39.13650590505772'"
      ]
     },
     "execution_count": 3,
     "metadata": {},
     "output_type": "execute_result"
    }
   ],
   "source": [
    "riskfree_rate = 0.025\n",
    "strike_price = 250.0\n",
    "trading_days = 252\n",
    "time_horizon_years = 2\n",
    "\n",
    "log_returns = np.log(1 + data.pct_change())\n",
    "stdev = log_returns.std() * np.sqrt(trading_days)\n",
    "\n",
    "'Black-Scholes Price: ' + black_scholes (stock_price, strike_price, riskfree_rate, stdev, time_horizon_years).MSFT.astype(str)"
   ]
  },
  {
   "cell_type": "markdown",
   "id": "28c4c9a0",
   "metadata": {},
   "source": [
    "### Euler Discretization"
   ]
  },
  {
   "cell_type": "code",
   "execution_count": 12,
   "id": "bca999ec",
   "metadata": {},
   "outputs": [
    {
     "data": {
      "text/plain": [
       "'Euler Price: 39.67743366195735'"
      ]
     },
     "execution_count": 12,
     "metadata": {},
     "output_type": "execute_result"
    }
   ],
   "source": [
    "stdev_array = stdev.values\n",
    "delta_t = time_horizon_years / trading_days\n",
    "iterations = 1000\n",
    "\n",
    "z = np.random.standard_normal((trading_days + 1, iterations))\n",
    "stock_price = np.zeros_like(z)\n",
    "stock_price[0] = data.iloc[-1]\n",
    "\n",
    "for time in range (1, trading_days + 1):\n",
    "    stock_price[time] = stock_price[time - 1] * np.exp((riskfree_rate - 0.5 * stdev_array ** 2) * delta_t + stdev_array * np.sqrt(delta_t) * z[time])\n",
    "\n",
    "euler = np.exp(-riskfree_rate * time_horizon_years) * np.sum(np.maximum(stock_price[-1] - strike_price, 0)) / iterations\n",
    "'Euler Price: ' + euler.astype(str)"
   ]
  }
 ],
 "metadata": {
  "kernelspec": {
   "display_name": "Python 3 (ipykernel)",
   "language": "python",
   "name": "python3"
  },
  "language_info": {
   "codemirror_mode": {
    "name": "ipython",
    "version": 3
   },
   "file_extension": ".py",
   "mimetype": "text/x-python",
   "name": "python",
   "nbconvert_exporter": "python",
   "pygments_lexer": "ipython3",
   "version": "3.10.9"
  }
 },
 "nbformat": 4,
 "nbformat_minor": 5
}
